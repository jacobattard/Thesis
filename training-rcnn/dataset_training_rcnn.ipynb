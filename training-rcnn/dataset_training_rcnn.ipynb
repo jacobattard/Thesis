{
 "cells": [
  {
   "cell_type": "code",
   "execution_count": 1,
   "id": "7add0b8b",
   "metadata": {},
   "outputs": [],
   "source": [
    "from roboflow import Roboflow\n",
    "from torchvision.models.detection import fasterrcnn_resnet50_fpn\n",
    "from torch.utils.data import DataLoader\n",
    "import os\n",
    "import torch\n",
    "import torchvision\n",
    "from torchvision.transforms import ToTensor\n",
    "import xml.etree.ElementTree as ET\n",
    "from PIL import Image\n"
   ]
  },
  {
   "cell_type": "code",
   "execution_count": 2,
   "id": "15080f3f",
   "metadata": {},
   "outputs": [
    {
     "name": "stdout",
     "output_type": "stream",
     "text": [
      "loading Roboflow workspace...\n",
      "loading Roboflow project...\n"
     ]
    },
    {
     "name": "stderr",
     "output_type": "stream",
     "text": [
      "Downloading Dataset Version Zip in handball-detection-8 to voc:: 100%|██████████| 470581/470581 [04:16<00:00, 1832.33it/s]"
     ]
    },
    {
     "name": "stdout",
     "output_type": "stream",
     "text": [
      "\n"
     ]
    },
    {
     "name": "stderr",
     "output_type": "stream",
     "text": [
      "\n",
      "Extracting Dataset Version Zip to handball-detection-8 in voc:: 100%|██████████| 4647/4647 [00:02<00:00, 1574.39it/s]\n"
     ]
    }
   ],
   "source": [
    "rf = Roboflow(api_key=\"QmzA8vyVJAsptHIaUGx5\")\n",
    "project = rf.workspace(\"penalty-detection\").project(\"handball-detection-op71z\")\n",
    "version = project.version(8)\n",
    "dataset = version.download(\"voc\")\n",
    "                "
   ]
  },
  {
   "cell_type": "code",
   "execution_count": 2,
   "id": "84dcafa7",
   "metadata": {},
   "outputs": [],
   "source": [
    "class VOCDataset(torch.utils.data.Dataset):\n",
    "    def __init__(self, image_dir, annotation_dir, classes):\n",
    "        self.image_dir = image_dir\n",
    "        self.annotation_dir = annotation_dir\n",
    "        self.image_files = list(sorted(os.listdir(image_dir)))\n",
    "        self.classes = classes\n",
    "\n",
    "    def __len__(self):\n",
    "        return len(self.image_files)\n",
    "\n",
    "    def __getitem__(self, idx):\n",
    "        img_path = os.path.join(self.image_dir, self.image_files[idx])\n",
    "        ann_path = os.path.join(self.annotation_dir, self.image_files[idx].replace(\".jpg\", \".xml\"))\n",
    "        \n",
    "        img = Image.open(img_path).convert(\"RGB\")\n",
    "        tree = ET.parse(ann_path)\n",
    "        root = tree.getroot()\n",
    "\n",
    "        boxes = []\n",
    "        labels = []\n",
    "\n",
    "        for obj in root.findall(\"object\"):\n",
    "            label = obj.find(\"name\").text\n",
    "            if label not in self.classes:\n",
    "                continue\n",
    "            labels.append(self.classes.index(label))\n",
    "\n",
    "            bbox = obj.find(\"bndbox\")\n",
    "            box = [\n",
    "                float(bbox.find(\"xmin\").text),\n",
    "                float(bbox.find(\"ymin\").text),\n",
    "                float(bbox.find(\"xmax\").text),\n",
    "                float(bbox.find(\"ymax\").text)\n",
    "            ]\n",
    "            boxes.append(box)\n",
    "\n",
    "        boxes = torch.tensor(boxes, dtype=torch.float32)\n",
    "        labels = torch.tensor(labels, dtype=torch.int64)\n",
    "\n",
    "        target = {\n",
    "            \"boxes\": boxes,\n",
    "            \"labels\": labels\n",
    "        }\n",
    "\n",
    "        return ToTensor()(img), target"
   ]
  },
  {
   "cell_type": "code",
   "execution_count": 4,
   "id": "d55a8647",
   "metadata": {},
   "outputs": [
    {
     "name": "stdout",
     "output_type": "stream",
     "text": [
      "Epoch 1, Loss: 0.0977\n",
      "Epoch 2, Loss: 0.1919\n",
      "Epoch 3, Loss: 0.1960\n",
      "Epoch 4, Loss: 0.1173\n",
      "Epoch 5, Loss: 0.1379\n",
      "Epoch 6, Loss: 0.0307\n",
      "Epoch 7, Loss: 0.1201\n",
      "Epoch 8, Loss: 0.0299\n",
      "Epoch 9, Loss: 0.1698\n",
      "Epoch 10, Loss: 0.0660\n"
     ]
    }
   ],
   "source": [
    "# Class names, make sure the order matches your annotations\n",
    "classes = [\"__background__\", \"post\", \"handball\"]\n",
    "\n",
    "# Load datasets\n",
    "train_dataset = VOCDataset(\"C:\\\\Users\\\\Jacob\\\\Desktop\\\\Thesis\\\\Code\\\\training-rcnn\\\\handball-detection-8\\\\train\\\\images\", \"C:\\\\Users\\\\Jacob\\\\Desktop\\\\Thesis\\\\Code\\\\training-rcnn\\\\handball-detection-8\\\\train\\\\annotations\", classes)\n",
    "valid_dataset = VOCDataset(\"C:\\\\Users\\\\Jacob\\\\Desktop\\\\Thesis\\\\Code\\\\training\\\\handball-detection-8\\\\valid\\\\images\", \"C:\\\\Users\\\\Jacob\\\\Desktop\\\\Thesis\\\\Code\\\\training-rcnn\\\\handball-detection-8\\\\valid\\\\annotations\", classes)\n",
    "\n",
    "train_loader = DataLoader(train_dataset, batch_size=2, shuffle=True, collate_fn=lambda x: tuple(zip(*x)))\n",
    "valid_loader = DataLoader(valid_dataset, batch_size=2, shuffle=False, collate_fn=lambda x: tuple(zip(*x)))\n",
    "\n",
    "# Model\n",
    "model = fasterrcnn_resnet50_fpn(pretrained=True)\n",
    "in_features = model.roi_heads.box_predictor.cls_score.in_features\n",
    "model.roi_heads.box_predictor = torchvision.models.detection.faster_rcnn.FastRCNNPredictor(in_features, len(classes))\n",
    "\n",
    "device = torch.device(\"cuda\" if torch.cuda.is_available() else \"cpu\")\n",
    "model.to(device)\n",
    "\n",
    "# Optimizer\n",
    "params = [p for p in model.parameters() if p.requires_grad]\n",
    "optimizer = torch.optim.SGD(params, lr=0.005, momentum=0.9, weight_decay=0.0005)\n",
    "\n",
    "# Training loop\n",
    "num_epochs = 10\n",
    "for epoch in range(num_epochs):\n",
    "    model.train()\n",
    "    for images, targets in train_loader:\n",
    "        images = list(img.to(device) for img in images)\n",
    "        targets = [{k: v.to(device) for k, v in t.items()} for t in targets]\n",
    "\n",
    "        loss_dict = model(images, targets)\n",
    "        losses = sum(loss for loss in loss_dict.values())\n",
    "\n",
    "        optimizer.zero_grad()\n",
    "        losses.backward()\n",
    "        optimizer.step()\n",
    "\n",
    "    print(f\"Epoch {epoch+1}, Loss: {losses.item():.4f}\")"
   ]
  },
  {
   "cell_type": "code",
   "execution_count": 5,
   "id": "73ead1e8",
   "metadata": {},
   "outputs": [],
   "source": [
    "torch.save(model.state_dict(), \"faster_rcnn_handball.pth\")"
   ]
  }
 ],
 "metadata": {
  "kernelspec": {
   "display_name": "Python 3",
   "language": "python",
   "name": "python3"
  },
  "language_info": {
   "codemirror_mode": {
    "name": "ipython",
    "version": 3
   },
   "file_extension": ".py",
   "mimetype": "text/x-python",
   "name": "python",
   "nbconvert_exporter": "python",
   "pygments_lexer": "ipython3",
   "version": "3.12.3"
  }
 },
 "nbformat": 4,
 "nbformat_minor": 5
}
